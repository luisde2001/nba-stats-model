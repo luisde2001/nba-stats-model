{
 "cells": [
  {
   "cell_type": "markdown",
   "metadata": {},
   "source": [
    "# Leer CSV"
   ]
  },
  {
   "cell_type": "code",
   "execution_count": 8,
   "metadata": {},
   "outputs": [],
   "source": [
    "import pandas as pd   #Si hacemos SHIFT+TAB nos salen las opciones en cada método"
   ]
  },
  {
   "cell_type": "code",
   "execution_count": 7,
   "metadata": {},
   "outputs": [],
   "source": [
    "df = pd.read_csv('./nba-stats-model/nba-stats-csv/player_info.csv') #./a partir de donde estamos ../retrocedemos un nivel"
   ]
  },
  {
   "cell_type": "code",
   "execution_count": 6,
   "metadata": {},
   "outputs": [
    {
     "data": {
      "text/html": [
       "<div>\n",
       "<style scoped>\n",
       "    .dataframe tbody tr th:only-of-type {\n",
       "        vertical-align: middle;\n",
       "    }\n",
       "\n",
       "    .dataframe tbody tr th {\n",
       "        vertical-align: top;\n",
       "    }\n",
       "\n",
       "    .dataframe thead th {\n",
       "        text-align: right;\n",
       "    }\n",
       "</style>\n",
       "<table border=\"1\" class=\"dataframe\">\n",
       "  <thead>\n",
       "    <tr style=\"text-align: right;\">\n",
       "      <th></th>\n",
       "      <th>player_id</th>\n",
       "      <th>player_name</th>\n",
       "      <th>season_id</th>\n",
       "    </tr>\n",
       "  </thead>\n",
       "  <tbody>\n",
       "    <tr>\n",
       "      <th>0</th>\n",
       "      <td>920</td>\n",
       "      <td>A.C. Green</td>\n",
       "      <td>1996-97</td>\n",
       "    </tr>\n",
       "    <tr>\n",
       "      <th>1</th>\n",
       "      <td>243</td>\n",
       "      <td>Aaron McKie</td>\n",
       "      <td>1996-97</td>\n",
       "    </tr>\n",
       "    <tr>\n",
       "      <th>2</th>\n",
       "      <td>1425</td>\n",
       "      <td>Aaron Williams</td>\n",
       "      <td>1996-97</td>\n",
       "    </tr>\n",
       "    <tr>\n",
       "      <th>3</th>\n",
       "      <td>768</td>\n",
       "      <td>Acie Earl</td>\n",
       "      <td>1996-97</td>\n",
       "    </tr>\n",
       "    <tr>\n",
       "      <th>4</th>\n",
       "      <td>228</td>\n",
       "      <td>Adam Keefe</td>\n",
       "      <td>1996-97</td>\n",
       "    </tr>\n",
       "    <tr>\n",
       "      <th>5</th>\n",
       "      <td>154</td>\n",
       "      <td>Adrian Caldwell</td>\n",
       "      <td>1996-97</td>\n",
       "    </tr>\n",
       "    <tr>\n",
       "      <th>6</th>\n",
       "      <td>673</td>\n",
       "      <td>Alan Henderson</td>\n",
       "      <td>1996-97</td>\n",
       "    </tr>\n",
       "    <tr>\n",
       "      <th>7</th>\n",
       "      <td>1059</td>\n",
       "      <td>Aleksandar Djordjevic</td>\n",
       "      <td>1996-97</td>\n",
       "    </tr>\n",
       "    <tr>\n",
       "      <th>8</th>\n",
       "      <td>275</td>\n",
       "      <td>Allan Houston</td>\n",
       "      <td>1996-97</td>\n",
       "    </tr>\n",
       "    <tr>\n",
       "      <th>9</th>\n",
       "      <td>947</td>\n",
       "      <td>Allen Iverson</td>\n",
       "      <td>1996-97</td>\n",
       "    </tr>\n",
       "  </tbody>\n",
       "</table>\n",
       "</div>"
      ],
      "text/plain": [
       "   player_id            player_name season_id\n",
       "0        920             A.C. Green   1996-97\n",
       "1        243            Aaron McKie   1996-97\n",
       "2       1425         Aaron Williams   1996-97\n",
       "3        768              Acie Earl   1996-97\n",
       "4        228             Adam Keefe   1996-97\n",
       "5        154        Adrian Caldwell   1996-97\n",
       "6        673         Alan Henderson   1996-97\n",
       "7       1059  Aleksandar Djordjevic   1996-97\n",
       "8        275          Allan Houston   1996-97\n",
       "9        947          Allen Iverson   1996-97"
      ]
     },
     "execution_count": 6,
     "metadata": {},
     "output_type": "execute_result"
    }
   ],
   "source": [
    "df.head(10)"
   ]
  },
  {
   "cell_type": "markdown",
   "metadata": {},
   "source": [
    "Hay veces que no tiene cabeceras (head) y tenemos que tunearlo un poco"
   ]
  },
  {
   "cell_type": "code",
   "execution_count": 9,
   "metadata": {},
   "outputs": [],
   "source": [
    "df = pd.read_csv('./nba-stats-model/nba-stats-csv/player_info_no_header.csv', header=None)"
   ]
  },
  {
   "cell_type": "code",
   "execution_count": 11,
   "metadata": {},
   "outputs": [
    {
     "data": {
      "text/html": [
       "<div>\n",
       "<style scoped>\n",
       "    .dataframe tbody tr th:only-of-type {\n",
       "        vertical-align: middle;\n",
       "    }\n",
       "\n",
       "    .dataframe tbody tr th {\n",
       "        vertical-align: top;\n",
       "    }\n",
       "\n",
       "    .dataframe thead th {\n",
       "        text-align: right;\n",
       "    }\n",
       "</style>\n",
       "<table border=\"1\" class=\"dataframe\">\n",
       "  <thead>\n",
       "    <tr style=\"text-align: right;\">\n",
       "      <th></th>\n",
       "      <th>0</th>\n",
       "      <th>1</th>\n",
       "      <th>2</th>\n",
       "    </tr>\n",
       "  </thead>\n",
       "  <tbody>\n",
       "    <tr>\n",
       "      <th>0</th>\n",
       "      <td>920</td>\n",
       "      <td>A.C. Green</td>\n",
       "      <td>1996-97</td>\n",
       "    </tr>\n",
       "    <tr>\n",
       "      <th>1</th>\n",
       "      <td>243</td>\n",
       "      <td>Aaron McKie</td>\n",
       "      <td>1996-97</td>\n",
       "    </tr>\n",
       "    <tr>\n",
       "      <th>2</th>\n",
       "      <td>1425</td>\n",
       "      <td>Aaron Williams</td>\n",
       "      <td>1996-97</td>\n",
       "    </tr>\n",
       "    <tr>\n",
       "      <th>3</th>\n",
       "      <td>768</td>\n",
       "      <td>Acie Earl</td>\n",
       "      <td>1996-97</td>\n",
       "    </tr>\n",
       "    <tr>\n",
       "      <th>4</th>\n",
       "      <td>228</td>\n",
       "      <td>Adam Keefe</td>\n",
       "      <td>1996-97</td>\n",
       "    </tr>\n",
       "  </tbody>\n",
       "</table>\n",
       "</div>"
      ],
      "text/plain": [
       "      0               1        2\n",
       "0   920      A.C. Green  1996-97\n",
       "1   243     Aaron McKie  1996-97\n",
       "2  1425  Aaron Williams  1996-97\n",
       "3   768       Acie Earl  1996-97\n",
       "4   228      Adam Keefe  1996-97"
      ]
     },
     "execution_count": 11,
     "metadata": {},
     "output_type": "execute_result"
    }
   ],
   "source": [
    "df.head()"
   ]
  },
  {
   "cell_type": "markdown",
   "metadata": {},
   "source": [
    "Como vemos la cabecera queda en números."
   ]
  },
  {
   "cell_type": "markdown",
   "metadata": {},
   "source": [
    " "
   ]
  },
  {
   "cell_type": "markdown",
   "metadata": {},
   "source": [
    "Tambien podemos querer que una de las columnas sea el índice (primera parte de cada fila). Vamos a elegir el playerID como index"
   ]
  },
  {
   "cell_type": "code",
   "execution_count": 12,
   "metadata": {},
   "outputs": [
    {
     "data": {
      "text/html": [
       "<div>\n",
       "<style scoped>\n",
       "    .dataframe tbody tr th:only-of-type {\n",
       "        vertical-align: middle;\n",
       "    }\n",
       "\n",
       "    .dataframe tbody tr th {\n",
       "        vertical-align: top;\n",
       "    }\n",
       "\n",
       "    .dataframe thead th {\n",
       "        text-align: right;\n",
       "    }\n",
       "</style>\n",
       "<table border=\"1\" class=\"dataframe\">\n",
       "  <thead>\n",
       "    <tr style=\"text-align: right;\">\n",
       "      <th></th>\n",
       "      <th>player_name</th>\n",
       "      <th>season_id</th>\n",
       "    </tr>\n",
       "    <tr>\n",
       "      <th>player_id</th>\n",
       "      <th></th>\n",
       "      <th></th>\n",
       "    </tr>\n",
       "  </thead>\n",
       "  <tbody>\n",
       "    <tr>\n",
       "      <th>920</th>\n",
       "      <td>A.C. Green</td>\n",
       "      <td>1996-97</td>\n",
       "    </tr>\n",
       "    <tr>\n",
       "      <th>243</th>\n",
       "      <td>Aaron McKie</td>\n",
       "      <td>1996-97</td>\n",
       "    </tr>\n",
       "    <tr>\n",
       "      <th>1425</th>\n",
       "      <td>Aaron Williams</td>\n",
       "      <td>1996-97</td>\n",
       "    </tr>\n",
       "    <tr>\n",
       "      <th>768</th>\n",
       "      <td>Acie Earl</td>\n",
       "      <td>1996-97</td>\n",
       "    </tr>\n",
       "    <tr>\n",
       "      <th>228</th>\n",
       "      <td>Adam Keefe</td>\n",
       "      <td>1996-97</td>\n",
       "    </tr>\n",
       "    <tr>\n",
       "      <th>...</th>\n",
       "      <td>...</td>\n",
       "      <td>...</td>\n",
       "    </tr>\n",
       "    <tr>\n",
       "      <th>1628380</th>\n",
       "      <td>Zach Collins</td>\n",
       "      <td>2017-18</td>\n",
       "    </tr>\n",
       "    <tr>\n",
       "      <th>203897</th>\n",
       "      <td>Zach LaVine</td>\n",
       "      <td>2017-18</td>\n",
       "    </tr>\n",
       "    <tr>\n",
       "      <th>2216</th>\n",
       "      <td>Zach Randolph</td>\n",
       "      <td>2017-18</td>\n",
       "    </tr>\n",
       "    <tr>\n",
       "      <th>2585</th>\n",
       "      <td>Zaza Pachulia</td>\n",
       "      <td>2017-18</td>\n",
       "    </tr>\n",
       "    <tr>\n",
       "      <th>1627753</th>\n",
       "      <td>Zhou Qi</td>\n",
       "      <td>2017-18</td>\n",
       "    </tr>\n",
       "  </tbody>\n",
       "</table>\n",
       "<p>29228 rows × 2 columns</p>\n",
       "</div>"
      ],
      "text/plain": [
       "              player_name season_id\n",
       "player_id                          \n",
       "920            A.C. Green   1996-97\n",
       "243           Aaron McKie   1996-97\n",
       "1425       Aaron Williams   1996-97\n",
       "768             Acie Earl   1996-97\n",
       "228            Adam Keefe   1996-97\n",
       "...                   ...       ...\n",
       "1628380      Zach Collins   2017-18\n",
       "203897        Zach LaVine   2017-18\n",
       "2216        Zach Randolph   2017-18\n",
       "2585        Zaza Pachulia   2017-18\n",
       "1627753           Zhou Qi   2017-18\n",
       "\n",
       "[29228 rows x 2 columns]"
      ]
     },
     "execution_count": 12,
     "metadata": {},
     "output_type": "execute_result"
    }
   ],
   "source": [
    "df = pd.read_csv('./nba-stats-model/nba-stats-csv/player_info.csv', index_col='player_id')\n",
    "df"
   ]
  },
  {
   "cell_type": "markdown",
   "metadata": {},
   "source": [
    "Ahora vamos a cargar el csv en el dataframe, pero solo con las columnas que necesitamos, no todas"
   ]
  },
  {
   "cell_type": "code",
   "execution_count": 15,
   "metadata": {},
   "outputs": [
    {
     "data": {
      "text/html": [
       "<div>\n",
       "<style scoped>\n",
       "    .dataframe tbody tr th:only-of-type {\n",
       "        vertical-align: middle;\n",
       "    }\n",
       "\n",
       "    .dataframe tbody tr th {\n",
       "        vertical-align: top;\n",
       "    }\n",
       "\n",
       "    .dataframe thead th {\n",
       "        text-align: right;\n",
       "    }\n",
       "</style>\n",
       "<table border=\"1\" class=\"dataframe\">\n",
       "  <thead>\n",
       "    <tr style=\"text-align: right;\">\n",
       "      <th></th>\n",
       "      <th>player_id</th>\n",
       "      <th>season_id</th>\n",
       "    </tr>\n",
       "  </thead>\n",
       "  <tbody>\n",
       "    <tr>\n",
       "      <th>0</th>\n",
       "      <td>471</td>\n",
       "      <td>1996-97</td>\n",
       "    </tr>\n",
       "    <tr>\n",
       "      <th>1</th>\n",
       "      <td>920</td>\n",
       "      <td>1996-97</td>\n",
       "    </tr>\n",
       "    <tr>\n",
       "      <th>2</th>\n",
       "      <td>243</td>\n",
       "      <td>1996-97</td>\n",
       "    </tr>\n",
       "    <tr>\n",
       "      <th>3</th>\n",
       "      <td>1425</td>\n",
       "      <td>1996-97</td>\n",
       "    </tr>\n",
       "    <tr>\n",
       "      <th>4</th>\n",
       "      <td>768</td>\n",
       "      <td>1996-97</td>\n",
       "    </tr>\n",
       "  </tbody>\n",
       "</table>\n",
       "</div>"
      ],
      "text/plain": [
       "   player_id season_id\n",
       "0        471   1996-97\n",
       "1        920   1996-97\n",
       "2        243   1996-97\n",
       "3       1425   1996-97\n",
       "4        768   1996-97"
      ]
     },
     "execution_count": 15,
     "metadata": {},
     "output_type": "execute_result"
    }
   ],
   "source": [
    "df = pd.read_csv('./nba-stats-model/nba-stats-csv/player_general_traditional_per_game_data.csv', \n",
    "                 usecols=['player_id', 'season_id'])  #Le decimos a pandas que columnas necesitamos\n",
    "df.head()"
   ]
  },
  {
   "cell_type": "code",
   "execution_count": null,
   "metadata": {},
   "outputs": [],
   "source": []
  }
 ],
 "metadata": {
  "kernelspec": {
   "display_name": "Python 3.7.7 64-bit ('DataScience': conda)",
   "language": "python",
   "name": "python37764bitdatascienceconda68728b76a0f94abca076743dd15c8adb"
  },
  "language_info": {
   "codemirror_mode": {
    "name": "ipython",
    "version": 3
   },
   "file_extension": ".py",
   "mimetype": "text/x-python",
   "name": "python",
   "nbconvert_exporter": "python",
   "pygments_lexer": "ipython3",
   "version": "3.7.7"
  }
 },
 "nbformat": 4,
 "nbformat_minor": 4
}
